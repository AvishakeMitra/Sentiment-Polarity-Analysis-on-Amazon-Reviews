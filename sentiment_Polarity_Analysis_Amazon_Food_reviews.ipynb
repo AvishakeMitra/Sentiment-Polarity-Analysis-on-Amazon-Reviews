{
 "cells": [
  {
   "cell_type": "markdown",
   "metadata": {},
   "source": [
    "# Sentiment Polarity Analysis on Amazon fine food reviews"
   ]
  },
  {
   "cell_type": "markdown",
   "metadata": {},
   "source": [
    "- __Dowload__ the datasets from https://www.kaggle.com/snap/amazon-fine-food-reviews\n",
    "- __Datasets description -__ \n",
    "This dataset consists of reviews of fine foods from amazon. The data span a period of more than 10 years, including all ~500,000 reviews up to October 2012. Reviews include product and user information, ratings, and a _'plain text review'_. It also includes reviews from all other Amazon categories\n",
    "- __Objectives -__ To find the the polarity of reviews based on the 'summary' and 'Text' feilds, if score is between 1 and 2 it will indicate the review was __POSTIVE__ or it is between 4 and 5 it will be treated as __NEGATIVE__"
   ]
  },
  {
   "cell_type": "code",
   "execution_count": 20,
   "metadata": {},
   "outputs": [],
   "source": [
    "import pandas as pd\n",
    "import numpy as np\n",
    "import matplotlib.pyplot as plt\n",
    "import seaborn as sns\n",
    "import sqlite3\n",
    "import warnings\n",
    "import seaborn as sn\n",
    "warnings.filterwarnings(\"ignore\")"
   ]
  },
  {
   "cell_type": "code",
   "execution_count": 3,
   "metadata": {},
   "outputs": [],
   "source": [
    "#connecting to the database\n",
    "db=sqlite3.connect('./data/database.sqlite')\n",
    "#reading all the entries in the database\n",
    "data=pd.read_sql_query(\"select * from Reviews\",db)"
   ]
  },
  {
   "cell_type": "code",
   "execution_count": 3,
   "metadata": {},
   "outputs": [
    {
     "name": "stdout",
     "output_type": "stream",
     "text": [
      "['Id' 'ProductId' 'UserId' 'ProfileName' 'HelpfulnessNumerator'\n",
      " 'HelpfulnessDenominator' 'Score' 'Time' 'Summary' 'Text']\n",
      "\n",
      "Number of columns - 10\n",
      "Total number of entries -  568454\n"
     ]
    }
   ],
   "source": [
    "#finding out the columns name\n",
    "print(data.columns.values)\n",
    "print(\"\\nNumber of columns -\",len(data.columns.values))\n",
    "print(\"Total number of entries - \",data.shape[0])"
   ]
  },
  {
   "cell_type": "code",
   "execution_count": 4,
   "metadata": {},
   "outputs": [],
   "source": [
    "#filtering out the score of 3 (we dont need this because 3 indicates the product is not good not bad)\n",
    "filter_data=pd.read_sql_query(\"select * from Reviews where Score != 3\",db)"
   ]
  },
  {
   "cell_type": "code",
   "execution_count": 5,
   "metadata": {},
   "outputs": [
    {
     "name": "stdout",
     "output_type": "stream",
     "text": [
      "Total number of entries (after removing score '3') -  525814\n"
     ]
    }
   ],
   "source": [
    "print(\"Total number of entries (after removing score '3') - \",filter_data.shape[0])\n",
    "#replacing the score with postive and negative to get the actual counts of positive/negative reviews.\n",
    "\n",
    "def partition(x):\n",
    "    if x < 3:\n",
    "        return 'NEGATIVE'\n",
    "    else:\n",
    "        return 'POSITIVE'\n",
    "    \n",
    "score_numerical=filter_data['Score']\n",
    "postv_negtv=score_numerical.map(partition)\n",
    "filter_data['Score']=postv_negtv"
   ]
  },
  {
   "cell_type": "code",
   "execution_count": 6,
   "metadata": {},
   "outputs": [
    {
     "name": "stdout",
     "output_type": "stream",
     "text": [
      "POSITIVE    443777\n",
      "NEGATIVE     82037\n",
      "Name: Score, dtype: int64\n"
     ]
    }
   ],
   "source": [
    "#data after replacing score with negative (1 and 2) and positve (4 and 5)\n",
    "filter_data.head()\n",
    "print(filter_data['Score'].value_counts())"
   ]
  },
  {
   "cell_type": "markdown",
   "metadata": {},
   "source": [
    "It can be observed that number of Postive reviews (443777) is very higher that Negative reviews (82037)."
   ]
  },
  {
   "cell_type": "markdown",
   "metadata": {},
   "source": [
    "# Data Cleaning - Deduplication\n",
    "It was observe that for some instance we are getting duplicate reviews because seller sometimes group some product into one (variants of same product), if a user post a review for any of these variant that review is showing on the other variant also, so we removing the duplicate values keeping only one unique review.\n"
   ]
  },
  {
   "cell_type": "markdown",
   "metadata": {},
   "source": [
    "For example see below, check the Time it is exactly same for all five reviews."
   ]
  },
  {
   "cell_type": "markdown",
   "metadata": {},
   "source": [
    "you can check by visiting --> amazon.com/dp/B000HDOPZG , you will see diffrent variant of the same product having same reviews."
   ]
  },
  {
   "cell_type": "code",
   "execution_count": 7,
   "metadata": {},
   "outputs": [
    {
     "data": {
      "text/html": [
       "<div>\n",
       "<style scoped>\n",
       "    .dataframe tbody tr th:only-of-type {\n",
       "        vertical-align: middle;\n",
       "    }\n",
       "\n",
       "    .dataframe tbody tr th {\n",
       "        vertical-align: top;\n",
       "    }\n",
       "\n",
       "    .dataframe thead th {\n",
       "        text-align: right;\n",
       "    }\n",
       "</style>\n",
       "<table border=\"1\" class=\"dataframe\">\n",
       "  <thead>\n",
       "    <tr style=\"text-align: right;\">\n",
       "      <th></th>\n",
       "      <th>Id</th>\n",
       "      <th>ProductId</th>\n",
       "      <th>UserId</th>\n",
       "      <th>ProfileName</th>\n",
       "      <th>HelpfulnessNumerator</th>\n",
       "      <th>HelpfulnessDenominator</th>\n",
       "      <th>Score</th>\n",
       "      <th>Time</th>\n",
       "      <th>Summary</th>\n",
       "      <th>Text</th>\n",
       "    </tr>\n",
       "  </thead>\n",
       "  <tbody>\n",
       "    <tr>\n",
       "      <th>0</th>\n",
       "      <td>73791</td>\n",
       "      <td>B000HDOPZG</td>\n",
       "      <td>AR5J8UI46CURR</td>\n",
       "      <td>Geetha Krishnan</td>\n",
       "      <td>2</td>\n",
       "      <td>2</td>\n",
       "      <td>5</td>\n",
       "      <td>1199577600</td>\n",
       "      <td>LOACKER QUADRATINI VANILLA WAFERS</td>\n",
       "      <td>DELICIOUS WAFERS. I FIND THAT EUROPEAN WAFERS ...</td>\n",
       "    </tr>\n",
       "    <tr>\n",
       "      <th>1</th>\n",
       "      <td>78445</td>\n",
       "      <td>B000HDL1RQ</td>\n",
       "      <td>AR5J8UI46CURR</td>\n",
       "      <td>Geetha Krishnan</td>\n",
       "      <td>2</td>\n",
       "      <td>2</td>\n",
       "      <td>5</td>\n",
       "      <td>1199577600</td>\n",
       "      <td>LOACKER QUADRATINI VANILLA WAFERS</td>\n",
       "      <td>DELICIOUS WAFERS. I FIND THAT EUROPEAN WAFERS ...</td>\n",
       "    </tr>\n",
       "    <tr>\n",
       "      <th>2</th>\n",
       "      <td>138277</td>\n",
       "      <td>B000HDOPYM</td>\n",
       "      <td>AR5J8UI46CURR</td>\n",
       "      <td>Geetha Krishnan</td>\n",
       "      <td>2</td>\n",
       "      <td>2</td>\n",
       "      <td>5</td>\n",
       "      <td>1199577600</td>\n",
       "      <td>LOACKER QUADRATINI VANILLA WAFERS</td>\n",
       "      <td>DELICIOUS WAFERS. I FIND THAT EUROPEAN WAFERS ...</td>\n",
       "    </tr>\n",
       "    <tr>\n",
       "      <th>3</th>\n",
       "      <td>138317</td>\n",
       "      <td>B000HDOPYC</td>\n",
       "      <td>AR5J8UI46CURR</td>\n",
       "      <td>Geetha Krishnan</td>\n",
       "      <td>2</td>\n",
       "      <td>2</td>\n",
       "      <td>5</td>\n",
       "      <td>1199577600</td>\n",
       "      <td>LOACKER QUADRATINI VANILLA WAFERS</td>\n",
       "      <td>DELICIOUS WAFERS. I FIND THAT EUROPEAN WAFERS ...</td>\n",
       "    </tr>\n",
       "    <tr>\n",
       "      <th>4</th>\n",
       "      <td>155049</td>\n",
       "      <td>B000PAQ75C</td>\n",
       "      <td>AR5J8UI46CURR</td>\n",
       "      <td>Geetha Krishnan</td>\n",
       "      <td>2</td>\n",
       "      <td>2</td>\n",
       "      <td>5</td>\n",
       "      <td>1199577600</td>\n",
       "      <td>LOACKER QUADRATINI VANILLA WAFERS</td>\n",
       "      <td>DELICIOUS WAFERS. I FIND THAT EUROPEAN WAFERS ...</td>\n",
       "    </tr>\n",
       "  </tbody>\n",
       "</table>\n",
       "</div>"
      ],
      "text/plain": [
       "       Id   ProductId         UserId      ProfileName  HelpfulnessNumerator  \\\n",
       "0   73791  B000HDOPZG  AR5J8UI46CURR  Geetha Krishnan                     2   \n",
       "1   78445  B000HDL1RQ  AR5J8UI46CURR  Geetha Krishnan                     2   \n",
       "2  138277  B000HDOPYM  AR5J8UI46CURR  Geetha Krishnan                     2   \n",
       "3  138317  B000HDOPYC  AR5J8UI46CURR  Geetha Krishnan                     2   \n",
       "4  155049  B000PAQ75C  AR5J8UI46CURR  Geetha Krishnan                     2   \n",
       "\n",
       "   HelpfulnessDenominator  Score        Time  \\\n",
       "0                       2      5  1199577600   \n",
       "1                       2      5  1199577600   \n",
       "2                       2      5  1199577600   \n",
       "3                       2      5  1199577600   \n",
       "4                       2      5  1199577600   \n",
       "\n",
       "                             Summary  \\\n",
       "0  LOACKER QUADRATINI VANILLA WAFERS   \n",
       "1  LOACKER QUADRATINI VANILLA WAFERS   \n",
       "2  LOACKER QUADRATINI VANILLA WAFERS   \n",
       "3  LOACKER QUADRATINI VANILLA WAFERS   \n",
       "4  LOACKER QUADRATINI VANILLA WAFERS   \n",
       "\n",
       "                                                Text  \n",
       "0  DELICIOUS WAFERS. I FIND THAT EUROPEAN WAFERS ...  \n",
       "1  DELICIOUS WAFERS. I FIND THAT EUROPEAN WAFERS ...  \n",
       "2  DELICIOUS WAFERS. I FIND THAT EUROPEAN WAFERS ...  \n",
       "3  DELICIOUS WAFERS. I FIND THAT EUROPEAN WAFERS ...  \n",
       "4  DELICIOUS WAFERS. I FIND THAT EUROPEAN WAFERS ...  "
      ]
     },
     "execution_count": 7,
     "metadata": {},
     "output_type": "execute_result"
    }
   ],
   "source": [
    "duplicate_review=pd.read_sql_query('select * from Reviews where UserId=\"AR5J8UI46CURR\"',db)\n",
    "duplicate_review\n"
   ]
  },
  {
   "cell_type": "markdown",
   "metadata": {},
   "source": [
    "Removing the duplicate reviews having the same  { UserId, Time, Summary ,Text}."
   ]
  },
  {
   "cell_type": "code",
   "execution_count": 8,
   "metadata": {},
   "outputs": [],
   "source": [
    "sort_data=filter_data.sort_values('UserId',axis=0,ascending=True)\n",
    "final_data=sort_data.drop_duplicates(subset={'UserId', 'Time', 'Summary', 'Text'},keep='first',inplace=False)"
   ]
  },
  {
   "cell_type": "code",
   "execution_count": 9,
   "metadata": {},
   "outputs": [
    {
     "data": {
      "text/plain": [
       "(365293, 10)"
      ]
     },
     "execution_count": 9,
     "metadata": {},
     "output_type": "execute_result"
    }
   ],
   "source": [
    "final_data.shape"
   ]
  },
  {
   "cell_type": "markdown",
   "metadata": {},
   "source": [
    "Amount of data we preserved after data cleaning process - Deduplication"
   ]
  },
  {
   "cell_type": "code",
   "execution_count": 10,
   "metadata": {},
   "outputs": [
    {
     "name": "stdout",
     "output_type": "stream",
     "text": [
      "% of data preserved after cleaning process is  69.47190451376343 %\n"
     ]
    }
   ],
   "source": [
    "print (\"% of data preserved after cleaning process is \",(final_data.shape[0]/filter_data.shape[0])*100,\"%\")"
   ]
  },
  {
   "cell_type": "markdown",
   "metadata": {},
   "source": [
    "# Text Preprocessing \n",
    "- Remove _html_ tags.\n",
    "- Remove _punctuation_.\n",
    "- Remove _alpha-numeric_ word.\n",
    "- Remove word which are less than 3.\n",
    "- Convert all the word to _lower case_.\n",
    "- Remove _stopwords_.\n",
    "- Apply _Snowball stemming_."
   ]
  },
  {
   "cell_type": "markdown",
   "metadata": {},
   "source": [
    "Funtction for __Remove html tags__ and __Remove punctuation__."
   ]
  },
  {
   "cell_type": "code",
   "execution_count": 11,
   "metadata": {},
   "outputs": [],
   "source": [
    "import re\n",
    "\n",
    "def cleanhtml(raw):\n",
    "    cleanr = re.compile('<.*?>')\n",
    "    cleantext = re.sub(cleanr, '', raw)\n",
    "    return cleantext\n",
    "\n",
    "def cleanpunct(text):\n",
    "    w = re.sub(r'[?|!|\\'|\"|#]',r'',text)  # ? ! ' \"  are replaced by no whitespace\n",
    "    w = re.sub(r'[.|,|)|(|\\|/|\\\\]',r' ',w) # . , ( )  \\ / are replaced by a whitespace        \n",
    "    return w"
   ]
  },
  {
   "cell_type": "markdown",
   "metadata": {},
   "source": [
    "- Intializing english __stopwords__ and instance of english __snowballStemmer__."
   ]
  },
  {
   "cell_type": "code",
   "execution_count": 12,
   "metadata": {},
   "outputs": [
    {
     "data": {
      "text/plain": [
       "'delight'"
      ]
     },
     "execution_count": 12,
     "metadata": {},
     "output_type": "execute_result"
    }
   ],
   "source": [
    "import string \n",
    "from nltk.corpus import stopwords\n",
    "from nltk.stem.snowball import SnowballStemmer\n",
    "from nltk.stem.wordnet import WordNetLemmatizer\n",
    "from tqdm import tqdm #for progress bar\n",
    "\n",
    "\n",
    "stop=set(stopwords.words('english'))\n",
    "sno=SnowballStemmer('english')\n",
    "\n",
    "#checking stemming is working or not\n",
    "sno.stem('delightful')"
   ]
  },
  {
   "cell_type": "markdown",
   "metadata": {},
   "source": [
    "- Implementation of Text Preprocessing for all the above mentioned. "
   ]
  },
  {
   "cell_type": "code",
   "execution_count": 13,
   "metadata": {},
   "outputs": [
    {
     "name": "stderr",
     "output_type": "stream",
     "text": [
      "100%|█████████████████████████████████████████████████████████████████████████| 365293/365293 [14:08<00:00, 430.35it/s]\n"
     ]
    }
   ],
   "source": [
    "i=0\n",
    "str_1=' '\n",
    "final_string=[] #new list of reviews\n",
    "postv_words=[]\n",
    "negtv_words=[]\n",
    "s='' #temporary word\n",
    "#tqdm is used for progress bar\n",
    "for sentnc in tqdm(final_data['Text'].to_numpy()):\n",
    "    \n",
    "    filtrd_sentc=[]\n",
    "    #removing html tags\n",
    "    sentnc=cleanhtml(sentnc)\n",
    "    #splitting the sentences into list of words\n",
    "    words=sentnc.split()\n",
    "    #checking for every word in the list of words\n",
    "    for word in words:\n",
    "        \n",
    "        #removing punctuation (note removing . , etc will add space )\n",
    "        cleaned_words=cleanpunct(word).split()\n",
    "        for cleaned_word in cleaned_words:\n",
    "            \n",
    "            #checking if the words contain only alphabets or not and word length > 2\n",
    "            #The isalpha() methods returns “True” if all characters in the string are alphabets, \n",
    "            #Otherwise, It returns “False”.\n",
    "            if((cleaned_word.isalpha()) & (len(cleaned_word)>2)):\n",
    "                #checking if the word(lowercase) is not a stopwords\n",
    "                if(cleaned_word.lower() not in stop):\n",
    "                    #applying stemming to get the root words.\n",
    "                    s=(sno.stem(cleaned_word.lower())).encode('utf8')\n",
    "                    #if not a stopword then store(root word) in filrd_sentc(list of cleaned words)\n",
    "                    filtrd_sentc.append(s)\n",
    "                    \n",
    "                    #putting postive and negative review seperately in two list postv_words and negtv_words\n",
    "                    if(final_data['Score'].to_numpy())[i] == 'POSITIVE':\n",
    "                        postv_words.append(s)\n",
    "                    if(final_data['Score'].to_numpy())[i] == 'NEGATIVE':\n",
    "                        negtv_words.append(s)\n",
    "                else:\n",
    "                    continue\n",
    "            else:\n",
    "                continue\n",
    "                        \n",
    "    #converting list of cleaned word into a single string.\n",
    "    str_1=b\" \".join(filtrd_sentc)\n",
    "    final_string.append(str_1)\n",
    "    i=i+1                                                 "
   ]
  },
  {
   "cell_type": "code",
   "execution_count": 14,
   "metadata": {},
   "outputs": [
    {
     "data": {
      "text/html": [
       "<div>\n",
       "<style scoped>\n",
       "    .dataframe tbody tr th:only-of-type {\n",
       "        vertical-align: middle;\n",
       "    }\n",
       "\n",
       "    .dataframe tbody tr th {\n",
       "        vertical-align: top;\n",
       "    }\n",
       "\n",
       "    .dataframe thead th {\n",
       "        text-align: right;\n",
       "    }\n",
       "</style>\n",
       "<table border=\"1\" class=\"dataframe\">\n",
       "  <thead>\n",
       "    <tr style=\"text-align: right;\">\n",
       "      <th></th>\n",
       "      <th>Id</th>\n",
       "      <th>ProductId</th>\n",
       "      <th>UserId</th>\n",
       "      <th>ProfileName</th>\n",
       "      <th>HelpfulnessNumerator</th>\n",
       "      <th>HelpfulnessDenominator</th>\n",
       "      <th>Score</th>\n",
       "      <th>Time</th>\n",
       "      <th>Summary</th>\n",
       "      <th>Text</th>\n",
       "      <th>CleanText</th>\n",
       "    </tr>\n",
       "  </thead>\n",
       "  <tbody>\n",
       "    <tr>\n",
       "      <th>125648</th>\n",
       "      <td>136323</td>\n",
       "      <td>B006Q820X0</td>\n",
       "      <td>#oc-R103C0QSV1DF5E</td>\n",
       "      <td>C</td>\n",
       "      <td>1</td>\n",
       "      <td>2</td>\n",
       "      <td>POSITIVE</td>\n",
       "      <td>1343088000</td>\n",
       "      <td>Great for the Price</td>\n",
       "      <td>I have to say I was a little apprehensive to b...</td>\n",
       "      <td>b'say littl apprehens buy product price like k...</td>\n",
       "    </tr>\n",
       "    <tr>\n",
       "      <th>477217</th>\n",
       "      <td>516062</td>\n",
       "      <td>B008I1XPKA</td>\n",
       "      <td>#oc-R109MU5OBBZ59U</td>\n",
       "      <td>AayGee</td>\n",
       "      <td>0</td>\n",
       "      <td>1</td>\n",
       "      <td>POSITIVE</td>\n",
       "      <td>1350086400</td>\n",
       "      <td>AWESOME Coffee!!!!</td>\n",
       "      <td>Received my free K cups as a sample promotion ...</td>\n",
       "      <td>b'receiv free cup sampl promot love least one ...</td>\n",
       "    </tr>\n",
       "    <tr>\n",
       "      <th>477233</th>\n",
       "      <td>516079</td>\n",
       "      <td>B008I1XPKA</td>\n",
       "      <td>#oc-R10LFEMQEW6QGZ</td>\n",
       "      <td>Julie</td>\n",
       "      <td>0</td>\n",
       "      <td>1</td>\n",
       "      <td>POSITIVE</td>\n",
       "      <td>1345939200</td>\n",
       "      <td>Brooklyn Bean Roastery Breakfast Blend K-Cups</td>\n",
       "      <td>Brooklyn Bean Roastery Blend K-Cups are great ...</td>\n",
       "      <td>b'brooklyn bean roasteri blend great tast coff...</td>\n",
       "    </tr>\n",
       "  </tbody>\n",
       "</table>\n",
       "</div>"
      ],
      "text/plain": [
       "            Id   ProductId              UserId ProfileName  \\\n",
       "125648  136323  B006Q820X0  #oc-R103C0QSV1DF5E           C   \n",
       "477217  516062  B008I1XPKA  #oc-R109MU5OBBZ59U      AayGee   \n",
       "477233  516079  B008I1XPKA  #oc-R10LFEMQEW6QGZ       Julie   \n",
       "\n",
       "        HelpfulnessNumerator  HelpfulnessDenominator     Score        Time  \\\n",
       "125648                     1                       2  POSITIVE  1343088000   \n",
       "477217                     0                       1  POSITIVE  1350086400   \n",
       "477233                     0                       1  POSITIVE  1345939200   \n",
       "\n",
       "                                              Summary  \\\n",
       "125648                            Great for the Price   \n",
       "477217                             AWESOME Coffee!!!!   \n",
       "477233  Brooklyn Bean Roastery Breakfast Blend K-Cups   \n",
       "\n",
       "                                                     Text  \\\n",
       "125648  I have to say I was a little apprehensive to b...   \n",
       "477217  Received my free K cups as a sample promotion ...   \n",
       "477233  Brooklyn Bean Roastery Blend K-Cups are great ...   \n",
       "\n",
       "                                                CleanText  \n",
       "125648  b'say littl apprehens buy product price like k...  \n",
       "477217  b'receiv free cup sampl promot love least one ...  \n",
       "477233  b'brooklyn bean roasteri blend great tast coff...  "
      ]
     },
     "execution_count": 14,
     "metadata": {},
     "output_type": "execute_result"
    }
   ],
   "source": [
    "#adding a column of clean text which can be used later\n",
    "final_data['CleanText']=final_string\n",
    "final_data.head(3)"
   ]
  },
  {
   "cell_type": "code",
   "execution_count": 15,
   "metadata": {},
   "outputs": [],
   "source": [
    "#store the table into new db  as SQLite table (final_mod)\n",
    "con=sqlite3.connect('./data/final_mod.sqlite')\n",
    "c=con.cursor()\n",
    "con.text_factory=str\n",
    "final_data.to_sql('Reviews',con,schema=None, if_exists='replace')\n"
   ]
  },
  {
   "cell_type": "markdown",
   "metadata": {},
   "source": [
    "# Applying Bag-of-Words(BoW)\n",
    "- Applying BoW on __'CleanText'__ feilds to generate __vector__ of the review __Text__"
   ]
  },
  {
   "cell_type": "code",
   "execution_count": 4,
   "metadata": {},
   "outputs": [],
   "source": [
    "import nltk\n",
    "from nltk.corpus import stopwords\n",
    "from nltk.tokenize import word_tokenize \n",
    "from sklearn.feature_extraction.text import CountVectorizer\n",
    "from sklearn.feature_extraction.text import TfidfVectorizer"
   ]
  },
  {
   "cell_type": "code",
   "execution_count": 5,
   "metadata": {},
   "outputs": [],
   "source": [
    "#applying BoW.\n",
    "vectorizer=CountVectorizer()\n",
    "\n",
    "# to_numpy() convert the pandas dataframe into numpy array.\n",
    "final_BoW_vector=vectorizer.fit_transform(final_data['CleanText'].to_numpy())"
   ]
  },
  {
   "cell_type": "code",
   "execution_count": 6,
   "metadata": {},
   "outputs": [
    {
     "data": {
      "text/plain": [
       "(365293, 98499)"
      ]
     },
     "execution_count": 6,
     "metadata": {},
     "output_type": "execute_result"
    }
   ],
   "source": [
    "final_BoW_vector.get_shape()"
   ]
  },
  {
   "cell_type": "markdown",
   "metadata": {},
   "source": [
    "- Note __98499__ is the dimension of the __sparse vector__ generated by BoW (unigram)"
   ]
  },
  {
   "cell_type": "markdown",
   "metadata": {},
   "source": [
    "- __Example for uni-gram, Bi-grams, 3-grams__\n",
    "\n",
    "If input is __“wireless speakers for tv”__\n",
    "\n",
    "N=1 __Unigram__- Ouput- __“wireless”__ , __“speakers”__, __“for”__ , __“tv”__\n",
    "\n",
    "N=2 __Bigram__- Ouput- __“wireless speakers”__, __“speakers for”__ , __“for tv”__\n",
    "\n",
    "N=3 __Trigram__ - Output- __“wireless speakers for”__ , __“speakers for tv”__"
   ]
  },
  {
   "cell_type": "markdown",
   "metadata": {},
   "source": [
    "### Applying Bi-gram\n",
    "- we apply bi-gram or n-gram to preserve __semantic meaning__ of the sentence, note- it also increase the dimensions              (ex- n-grams = 1-gram + 2-gram + ... + n-gram)\n"
   ]
  },
  {
   "cell_type": "code",
   "execution_count": 5,
   "metadata": {},
   "outputs": [],
   "source": [
    "#ngram_range=(1,2) define 1-gram + 2-grams\n",
    "#ngram_range=(1,3) define 1-gram + 2-grams + 3-grams\n",
    "vectorizer=CountVectorizer(ngram_range=(1,2))\n",
    "final_bigram_vector_bow=vectorizer.fit_transform(final_data['CleanText'].to_numpy())"
   ]
  },
  {
   "cell_type": "code",
   "execution_count": 6,
   "metadata": {},
   "outputs": [
    {
     "data": {
      "text/plain": [
       "(365293, 3003661)"
      ]
     },
     "execution_count": 6,
     "metadata": {},
     "output_type": "execute_result"
    }
   ],
   "source": [
    "final_bigram_vector_bow.get_shape()"
   ]
  },
  {
   "cell_type": "markdown",
   "metadata": {},
   "source": [
    "- Note from __98499__  dimension of the __uni-gram__  it increases to __3003661__ when applying 2-grams"
   ]
  },
  {
   "cell_type": "markdown",
   "metadata": {},
   "source": [
    "# Applying TF-IDF\n",
    "- Applying TF-IDFon __'CleanText'__ feilds to generate __vector__ of the review __Text__\n",
    "- Applying bi-grams using Tf-idf"
   ]
  },
  {
   "cell_type": "code",
   "execution_count": 30,
   "metadata": {},
   "outputs": [],
   "source": [
    "vectorizer=TfidfVectorizer(ngram_range=(1,2))\n",
    "final_bigram_vector_ti=vectorizer.fit_transform(final_data['CleanText'].to_numpy())"
   ]
  },
  {
   "cell_type": "code",
   "execution_count": 31,
   "metadata": {},
   "outputs": [
    {
     "data": {
      "text/plain": [
       "(365293, 3003661)"
      ]
     },
     "execution_count": 31,
     "metadata": {},
     "output_type": "execute_result"
    }
   ],
   "source": [
    "final_bigram_vector_ti.get_shape()"
   ]
  },
  {
   "cell_type": "markdown",
   "metadata": {},
   "source": [
    "- __3003661__ is the dimension of each vector(2-grams) which is same as when we use BoW 2-grams."
   ]
  },
  {
   "cell_type": "markdown",
   "metadata": {},
   "source": [
    "- to get the all 3003661 feautures (words) "
   ]
  },
  {
   "cell_type": "code",
   "execution_count": 31,
   "metadata": {},
   "outputs": [
    {
     "data": {
      "text/plain": [
       "3003661"
      ]
     },
     "execution_count": 31,
     "metadata": {},
     "output_type": "execute_result"
    }
   ],
   "source": [
    "all_words=vectorizer.get_feature_names()\n",
    "len(all_words)"
   ]
  },
  {
   "cell_type": "markdown",
   "metadata": {},
   "source": [
    "- showing 1st 10 feautures"
   ]
  },
  {
   "cell_type": "code",
   "execution_count": 32,
   "metadata": {},
   "outputs": [
    {
     "data": {
      "text/plain": [
       "['aa pleas',\n",
       " 'aa state',\n",
       " 'aaa',\n",
       " 'aaa aaa',\n",
       " 'aaa class',\n",
       " 'aaa condit',\n",
       " 'aaa dont',\n",
       " 'aaa hockey',\n",
       " 'aaa job']"
      ]
     },
     "execution_count": 32,
     "metadata": {},
     "output_type": "execute_result"
    }
   ],
   "source": [
    "all_words[1:10]"
   ]
  },
  {
   "cell_type": "code",
   "execution_count": 7,
   "metadata": {},
   "outputs": [],
   "source": [
    "#extracting the positive and negative (Score) columns \n",
    "#we are taking 1st 500 score for visualization since our RAM is limited, we are not able to process 365293 reviews\n",
    "polarity=final_data['Score']\n",
    "polarity=polarity[1:200]"
   ]
  },
  {
   "cell_type": "markdown",
   "metadata": {},
   "source": [
    "## NOTE :  we are taking 1st 499 reviews for visualization since our RAM is limited, we are not able to process 365293 reviews, it is giving Memory Error"
   ]
  },
  {
   "cell_type": "markdown",
   "metadata": {},
   "source": [
    "# Applying t-SNE for Visualization in BoW(bi-gram)"
   ]
  },
  {
   "cell_type": "markdown",
   "metadata": {},
   "source": [
    "- Apply tsne of 199 reviews with perplexity 30 and max_iteration=300"
   ]
  },
  {
   "cell_type": "code",
   "execution_count": 14,
   "metadata": {},
   "outputs": [],
   "source": [
    "from sklearn.manifold import TSNE\n",
    "from scipy.sparse import csc_matrix\n",
    "#default model\n",
    "#default perplexity =30\n",
    "#default iteration =1000\n",
    "#random_state=0 <-- indicate the output will be same always not randomized\n",
    "model=TSNE(n_components=2,random_state=0,n_iter=300)"
   ]
  },
  {
   "cell_type": "code",
   "execution_count": 15,
   "metadata": {},
   "outputs": [],
   "source": [
    "#standarized the data for tsne\n",
    "#Data-preprocessing  =>  Column standarization(mean and std_dev to unit variance)\n",
    "from sklearn.preprocessing import StandardScaler\n",
    "std_data=StandardScaler(with_mean=False).fit_transform(final_bigram_vector_bow)\n",
    "#taking 1st 499 review vector for visualization\n",
    "std_data=std_data[1:200].toarray()"
   ]
  },
  {
   "cell_type": "code",
   "execution_count": 16,
   "metadata": {},
   "outputs": [],
   "source": [
    "tsne_data=model.fit_transform(std_data)\n"
   ]
  },
  {
   "cell_type": "code",
   "execution_count": 17,
   "metadata": {},
   "outputs": [],
   "source": [
    "tsne_data=np.vstack((tsne_data.T,polarity)).T"
   ]
  },
  {
   "cell_type": "code",
   "execution_count": 18,
   "metadata": {},
   "outputs": [],
   "source": [
    "tsne_df=pd.DataFrame(data=tsne_data,columns=(\"Dimension_1\",\"Dimension_2\",\"LABEL\"))"
   ]
  },
  {
   "cell_type": "code",
   "execution_count": 22,
   "metadata": {},
   "outputs": [
    {
     "data": {
      "image/png": "[encoded data removed]",
      "text/plain": [
       "<Figure size 518.375x432 with 1 Axes>"
      ]
     },
     "metadata": {
      "needs_background": "light"
     },
     "output_type": "display_data"
    }
   ],
   "source": [
    "sn.FacetGrid(tsne_df,hue=\"LABEL\",size=6).map(plt.scatter,'Dimension_1','Dimension_2').add_legend()\n",
    "plt.show()\n"
   ]
  },
  {
   "cell_type": "markdown",
   "metadata": {},
   "source": [
    "- Apply tsne  with perplexity 50 and max_iteration=400"
   ]
  },
  {
   "cell_type": "code",
   "execution_count": 24,
   "metadata": {},
   "outputs": [
    {
     "data": {
      "image/png": "[encoded data removed]",
      "text/plain": [
       "<Figure size 518.375x432 with 1 Axes>"
      ]
     },
     "metadata": {
      "needs_background": "light"
     },
     "output_type": "display_data"
    }
   ],
   "source": [
    "model=TSNE(n_components=2,random_state=0,n_iter=400, perplexity=50)\n",
    "tsne_data=model.fit_transform(std_data)\n",
    "tsne_data=np.vstack((tsne_data.T,polarity)).T\n",
    "tsne_df=pd.DataFrame(data=tsne_data,columns=(\"Dimension_1\",\"Dimension_2\",\"LABEL\"))\n",
    "sn.FacetGrid(tsne_df,hue=\"LABEL\",size=6).map(plt.scatter,'Dimension_1','Dimension_2').add_legend()\n",
    "plt.show()"
   ]
  },
  {
   "cell_type": "code",
   "execution_count": 28,
   "metadata": {},
   "outputs": [
    {
     "data": {
      "image/png": "[encoded data removed]",
      "text/plain": [
       "<Figure size 518.375x432 with 1 Axes>"
      ]
     },
     "metadata": {
      "needs_background": "light"
     },
     "output_type": "display_data"
    }
   ],
   "source": [
    "model=TSNE(n_components=2,random_state=0,n_iter=700, perplexity=20)\n",
    "tsne_data=model.fit_transform(std_data)\n",
    "tsne_data=np.vstack((tsne_data.T,polarity)).T\n",
    "tsne_df=pd.DataFrame(data=tsne_data,columns=(\"Dimension_1\",\"Dimension_2\",\"LABEL\"))\n",
    "sn.FacetGrid(tsne_df,hue=\"LABEL\",size=6).map(plt.scatter,'Dimension_1','Dimension_2').add_legend()\n",
    "plt.show()"
   ]
  },
  {
   "cell_type": "markdown",
   "metadata": {},
   "source": [
    "## NOTE :  we are taking 1st 499 reviews for visualization since our RAM is limited, we are not able to process 365293 reviews, it is giving Memory Error"
   ]
  },
  {
   "cell_type": "markdown",
   "metadata": {},
   "source": [
    "# Applying t-SNE for Visualization tf-idf(bi-gram)"
   ]
  },
  {
   "cell_type": "code",
   "execution_count": 32,
   "metadata": {},
   "outputs": [],
   "source": [
    "#standarized the data for tsne\n",
    "#Data-preprocessing  =>  Column standarization(mean and std_dev to unit variance)\n",
    "from sklearn.preprocessing import StandardScaler\n",
    "std_data=StandardScaler(with_mean=False).fit_transform(final_bigram_vector_ti)\n",
    "#taking 1st 499 review vector for visualization\n",
    "std_data=std_data[1:200].toarray()"
   ]
  },
  {
   "cell_type": "code",
   "execution_count": null,
   "metadata": {},
   "outputs": [],
   "source": [
    "model=TSNE(n_components=2,random_state=0,n_iter=400, perplexity=50)\n",
    "tsne_data=model.fit_transform(std_data)\n",
    "tsne_data=np.vstack((tsne_data.T,polarity)).T\n",
    "tsne_df=pd.DataFrame(data=tsne_data,columns=(\"Dimension_1\",\"Dimension_2\",\"LABEL\"))\n",
    "sn.FacetGrid(tsne_df,hue=\"LABEL\",size=6).map(plt.scatter,'Dimension_1','Dimension_2').add_legend()\n",
    "plt.show()"
   ]
  }
 ],
 "metadata": {
  "kernelspec": {
   "display_name": "Python 3",
   "language": "python",
   "name": "python3"
  },
  "language_info": {
   "codemirror_mode": {
    "name": "ipython",
    "version": 3
   },
   "file_extension": ".py",
   "mimetype": "text/x-python",
   "name": "python",
   "nbconvert_exporter": "python",
   "pygments_lexer": "ipython3",
   "version": "3.7.0"
  }
 },
 "nbformat": 4,
 "nbformat_minor": 2
}
